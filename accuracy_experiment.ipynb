{
 "cells": [
  {
   "cell_type": "code",
   "execution_count": null,
   "metadata": {},
   "outputs": [],
   "source": [
    "import numpy as np\n",
    "import pandas as pd\n",
    "from surprise import SVD, KNNWithMeans, NMF, SlopeOne, NMF\n",
    "from surprise import accuracy\n",
    "from util.helpers import load_train_test_surpriselib, load_dataset_explicit\n",
    "from util.knn import get_knn\n",
    "from neighborhood_eval.neighborhood_accuracy import critical_nbhds_accuracy\n",
    "\n",
    "# path to the datasets folder\n",
    "dataset_name = 'ml-latest'\n",
    "dataset_path = '../data/' + dataset_name\n",
    "\n",
    "# load the data\n",
    "ratings = load_dataset_explicit(dataset_name, dataset_path, total_users=16000)\n",
    "print('Dataset size:', len(ratings))\n",
    "print('Total no of Users:', len(set(ratings.user_id.to_list())))"
   ]
  },
  {
   "cell_type": "code",
   "execution_count": null,
   "metadata": {},
   "outputs": [],
   "source": [
    "# split data into train/test\n",
    "dataset = ratings.copy()\n",
    "# test set portion (15%)\n",
    "msk = np.random.rand(len(dataset)) < 0.85\n",
    "x = dataset[msk]\n",
    "y = dataset[~msk]\n",
    "\n",
    "print(\"trainset size:\", len(x))\n",
    "print(\"testset size:\", len(y))\n",
    "print(\"full dataset size\", len(dataset))\n",
    "\n",
    "# load train, test compatible with surpriselib\n",
    "trainset, testset = load_train_test_surpriselib(x, y)"
   ]
  },
  {
   "cell_type": "code",
   "execution_count": null,
   "metadata": {},
   "outputs": [],
   "source": [
    "# main train algo + algo for nbhd clustering\n",
    "algo = SVD().fit(trainset)\n",
    "clustering_algo = KNNWithMeans(sim_options = {'name': 'pearson_baseline', 'user_based': True}).fit(trainset)\n",
    "\n",
    "predictions = algo.test(testset)\n",
    "predictions_df = pd.DataFrame(predictions)\n",
    "\n",
    "# compute systen metrics\n",
    "accuracy.mae(predictions)\n",
    "accuracy.rmse(predictions)\n",
    "accuracy.mse(predictions)"
   ]
  },
  {
   "cell_type": "code",
   "execution_count": null,
   "metadata": {},
   "outputs": [],
   "source": [
    "nbhd_size = 10 \n",
    "p_thresh = 0.5\n",
    "\n",
    "# MSE loss equation (base error for test-1)\n",
    "predictions_df['prediction_loss'] = predictions_df.apply(lambda x: (x.r_ui - x.est)**2 , axis=1)\n",
    "\n",
    "# Get the neighborhoods (knn) for every unique user in the dataset\n",
    "neighborhoods = get_knn(x, clustering_algo, nbhd_size)\n",
    "critical_nbhds_df = critical_nbhds_accuracy(neighborhoods, predictions_df, p_thresh)\n",
    "critical_nbhds_df.to_csv('output/knn_methods_exp/' + dataset_name + '.csv', index=False)"
   ]
  }
 ],
 "metadata": {
  "interpreter": {
   "hash": "28800bbaf992ec1b9bb9ca62bf0a5137f2a6e09eb1fec1aee7f168f6a859e1ca"
  },
  "kernelspec": {
   "display_name": "Python 3.10.0 ('recommenders')",
   "language": "python",
   "name": "python3"
  },
  "language_info": {
   "codemirror_mode": {
    "name": "ipython",
    "version": 3
   },
   "file_extension": ".py",
   "mimetype": "text/x-python",
   "name": "python",
   "nbconvert_exporter": "python",
   "pygments_lexer": "ipython3",
   "version": "3.10.0"
  },
  "orig_nbformat": 4
 },
 "nbformat": 4,
 "nbformat_minor": 2
}
