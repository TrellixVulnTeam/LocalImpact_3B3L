{
 "cells": [
  {
   "cell_type": "code",
   "execution_count": 1,
   "metadata": {},
   "outputs": [
    {
     "name": "stdout",
     "output_type": "stream",
     "text": [
      "Dataset size: 100836\n",
      "Total no of Users: 610\n"
     ]
    }
   ],
   "source": [
    "import numpy as np\n",
    "import pandas as pd\n",
    "from surprise import SVD, KNNWithMeans, NMF\n",
    "from surprise import accuracy\n",
    "from util.helpers import load_train_test_surpriselib, load_dataset_explicit\n",
    "from util.knn import get_knn\n",
    "from neighborhood_eval.neighborhood_accuracy import critical_nbhds_accuracy\n",
    "\n",
    "# path to the datasets folder\n",
    "dataset_name = 'ml-latest-small'\n",
    "dataset_path = '../data/' + dataset_name\n",
    "\n",
    "# load the data\n",
    "ratings = load_dataset_explicit(dataset_name, dataset_path, total_users=16000)\n",
    "print('Dataset size:', len(ratings))\n",
    "print('Total no of Users:', len(set(ratings.user_id.to_list())))"
   ]
  },
  {
   "cell_type": "code",
   "execution_count": 2,
   "metadata": {},
   "outputs": [
    {
     "name": "stdout",
     "output_type": "stream",
     "text": [
      "trainset size: 85722\n",
      "testset size: 15114\n",
      "full dataset size 100836\n",
      "trainset and testset successfully created.\n"
     ]
    }
   ],
   "source": [
    "# split data into train/test\n",
    "dataset = ratings.copy()\n",
    "# test set portion (15%)\n",
    "msk = np.random.rand(len(dataset)) < 0.85\n",
    "x = dataset[msk]\n",
    "y = dataset[~msk]\n",
    "\n",
    "print(\"trainset size:\", len(x))\n",
    "print(\"testset size:\", len(y))\n",
    "print(\"full dataset size\", len(dataset))\n",
    "\n",
    "# load train, test compatible with surpriselib\n",
    "trainset, testset = load_train_test_surpriselib(x, y)"
   ]
  },
  {
   "cell_type": "code",
   "execution_count": 3,
   "metadata": {},
   "outputs": [
    {
     "name": "stdout",
     "output_type": "stream",
     "text": [
      "Computing the pearson similarity matrix...\n",
      "Done computing similarity matrix.\n",
      "MAE:  0.6747\n",
      "RMSE: 0.8792\n",
      "MSE: 0.7729\n"
     ]
    },
    {
     "data": {
      "text/plain": [
       "0.7729459891822047"
      ]
     },
     "execution_count": 3,
     "metadata": {},
     "output_type": "execute_result"
    }
   ],
   "source": [
    "# main train algo + algo for nbhd clustering\n",
    "algo = SVD().fit(trainset)\n",
    "clustering_algo = KNNWithMeans(sim_options = {'name': 'pearson', 'user_based': True}).fit(trainset)\n",
    "\n",
    "predictions = algo.test(testset)\n",
    "predictions_df = pd.DataFrame(predictions)\n",
    "\n",
    "# compute systen metrics\n",
    "accuracy.mae(predictions)\n",
    "accuracy.rmse(predictions)\n",
    "accuracy.mse(predictions)"
   ]
  },
  {
   "cell_type": "code",
   "execution_count": 4,
   "metadata": {},
   "outputs": [
    {
     "name": "stdout",
     "output_type": "stream",
     "text": [
      "Clustering method used: PCC\n",
      "total nbhds - test1: 387\n",
      "total nbhds - test2: 87\n",
      "total nbhds - test3 - MSE: 66\n",
      "total nbhds - test3 - MAE: 66\n",
      "total nbhds - test3 - RMSE: 66\n",
      "Critical nbhd % 14.26\n",
      "\n",
      "\n"
     ]
    }
   ],
   "source": [
    "nbhd_size = 10 \n",
    "p_thresh = 0.5\n",
    "\n",
    "# MSE loss equation (base of test-1)\n",
    "predictions_df['prediction_loss'] = predictions_df.apply(lambda x: (x.r_ui - x.est)**2 , axis=1)\n",
    "\n",
    "# Get the neighborhoods (knn) for every unique user in the dataset\n",
    "nbhd_clusters = get_knn(x, clustering_algo, nbhd_size)\n",
    "critical_nbhds_df = critical_nbhds_accuracy(nbhd_clusters, predictions_df, p_thresh)\n",
    "critical_nbhds_df.to_csv('output/clustering_exp/' + dataset_name + '.csv', index=False)"
   ]
  },
  {
   "cell_type": "code",
   "execution_count": null,
   "metadata": {},
   "outputs": [],
   "source": [
    "import seaborn as sns\n",
    "import matplotlib.pyplot as plt\n",
    "\n",
    "fig, ax =plt.subplots(1,3, figsize=(18, 4))\n",
    "box_plot_mse = critical_nbhds_df[['mse_nbhd','mse_equiv']].rename(columns={'mse_nbhd':'N', 'mse_equiv':'D\\''}).reset_index().melt(id_vars='index').rename(columns=str.title)\n",
    "sns.boxplot(x=\"Value\", y=\"Variable\", data=box_plot_mse, whis=np.inf, ax=ax[0])\n",
    "sns.stripplot(x=\"Value\", y=\"Variable\", data=box_plot_mse, color=\".3\", ax=ax[0])\n",
    "\n",
    "box_plot_mae = critical_nbhds_df[['mae_nbhd','mae_equiv']].rename(columns={'mae_nbhd':'N', 'mae_equiv':'D\\''}).reset_index().melt(id_vars='index').rename(columns=str.title)\n",
    "sns.boxplot(x=\"Value\", y=\"Variable\", data=box_plot_mae, whis=np.inf, ax=ax[1])\n",
    "sns.stripplot(x=\"Value\", y=\"Variable\", data=box_plot_mae, color=\".3\", ax=ax[1])\n",
    "\n",
    "box_plot_rmse = critical_nbhds_df[['rmse_nbhd','rmse_equiv']].rename(columns={'rmse_nbhd':'N', 'rmse_equiv':'D\\''}).reset_index().melt(id_vars='index').rename(columns=str.title)\n",
    "sns.boxplot(x=\"Value\", y=\"Variable\", data=box_plot_rmse, whis=np.inf, ax=ax[2])\n",
    "sns.stripplot(x=\"Value\", y=\"Variable\", data=box_plot_rmse, color=\".3\", ax=ax[2])\n",
    "\n",
    "\n",
    "ax[0].set_xlabel(\"MSE\")\n",
    "ax[0].set(ylabel=None)\n",
    "ax[1].set_xlabel(\"MAE\")\n",
    "ax[1].set(ylabel=None)\n",
    "ax[2].set_xlabel(\"RMSE\")\n",
    "ax[2].set(ylabel=None)"
   ]
  }
 ],
 "metadata": {
  "interpreter": {
   "hash": "28800bbaf992ec1b9bb9ca62bf0a5137f2a6e09eb1fec1aee7f168f6a859e1ca"
  },
  "kernelspec": {
   "display_name": "Python 3.10.0 ('recommenders')",
   "language": "python",
   "name": "python3"
  },
  "language_info": {
   "codemirror_mode": {
    "name": "ipython",
    "version": 3
   },
   "file_extension": ".py",
   "mimetype": "text/x-python",
   "name": "python",
   "nbconvert_exporter": "python",
   "pygments_lexer": "ipython3",
   "version": "3.10.0"
  },
  "orig_nbformat": 4
 },
 "nbformat": 4,
 "nbformat_minor": 2
}
