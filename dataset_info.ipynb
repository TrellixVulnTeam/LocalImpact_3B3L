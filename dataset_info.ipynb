{
 "cells": [
  {
   "cell_type": "code",
   "execution_count": 4,
   "metadata": {},
   "outputs": [
    {
     "name": "stdout",
     "output_type": "stream",
     "text": [
      "Dataset size: 1571685\n",
      "Total no of Users: 15999\n"
     ]
    }
   ],
   "source": [
    "import numpy as np\n",
    "import pandas as pd\n",
    "from surprise import SVD, KNNWithMeans, NMF, SlopeOne, NMF\n",
    "from surprise import Dataset, Reader, accuracy\n",
    "from util.helpers import load_train_test_surpriselib, load_dataset_explicit\n",
    "from util.knn import get_knn\n",
    "from neighborhood_eval.neighborhood_accuracy import critical_nbhds_accuracy\n",
    "\n",
    "# path to the datasets folder\n",
    "dataset_name = 'ml-latest'\n",
    "dataset_path = '../data/' + dataset_name\n",
    "\n",
    "# load the data\n",
    "ratings = load_dataset_explicit(dataset_name, dataset_path, total_users=16000)\n",
    "print('Dataset size:', len(ratings))\n",
    "print('Total no of Users:', len(set(ratings.user_id.to_list())))"
   ]
  }
 ],
 "metadata": {
  "interpreter": {
   "hash": "28800bbaf992ec1b9bb9ca62bf0a5137f2a6e09eb1fec1aee7f168f6a859e1ca"
  },
  "kernelspec": {
   "display_name": "Python 3.10.0 ('recommenders')",
   "language": "python",
   "name": "python3"
  },
  "language_info": {
   "codemirror_mode": {
    "name": "ipython",
    "version": 3
   },
   "file_extension": ".py",
   "mimetype": "text/x-python",
   "name": "python",
   "nbconvert_exporter": "python",
   "pygments_lexer": "ipython3",
   "version": "3.10.0"
  },
  "orig_nbformat": 4
 },
 "nbformat": 4,
 "nbformat_minor": 2
}
