{
 "cells": [
  {
   "cell_type": "markdown",
   "id": "8ebdb99e",
   "metadata": {},
   "source": [
    "<h1 id=\"tocheading\">Table of Contents</h1>\n",
    "<div id=\"toc\"></div>"
   ]
  },
  {
   "cell_type": "code",
   "execution_count": null,
   "id": "a2cf77ed",
   "metadata": {},
   "outputs": [],
   "source": [
    "%%javascript\n",
    "$.getScript('https://kmahelona.github.io/ipython_notebook_goodies/ipython_notebook_toc.js')"
   ]
  },
  {
   "cell_type": "markdown",
   "id": "8813800c",
   "metadata": {},
   "source": [
    "## Imports"
   ]
  },
  {
   "cell_type": "code",
   "execution_count": 1,
   "id": "ffe807b3",
   "metadata": {},
   "outputs": [],
   "source": [
    "import os\n",
    "import numpy as np\n",
    "import pandas as pd\n",
    "import matplotlib as plt\n",
    "\n",
    "from pathlib import Path\n",
    "from datetime import datetime as dt\n",
    "from surprise import Dataset\n",
    "from surprise import SVD, KNNWithMeans, NMF\n",
    "from surprise import Dataset, accuracy, Reader\n",
    "from surprise.model_selection import train_test_split\n",
    "from surprise.model_selection import cross_validate\n",
    "\n",
    "# customized imports\n",
    "from scripts.knn import get_knn\n",
    "from scripts.local_accuracy import NeighborhoodAccuracy\n",
    "from scripts.local_utility import compute_neighborhood_ndcg\n",
    "from scripts.group_list import group_list"
   ]
  },
  {
   "cell_type": "markdown",
   "id": "85432ad5",
   "metadata": {},
   "source": [
    "## Main test variables"
   ]
  },
  {
   "cell_type": "code",
   "execution_count": 2,
   "id": "e922d195",
   "metadata": {},
   "outputs": [],
   "source": [
    "# dataset\n",
    "DATASET_NAME = \"movie-tweetings\"\n",
    "DATASET_PATH = \"../datasets/\" + DATASET_NAME\n",
    "RATINGS_PATH = \"../datasets/\" + DATASET_NAME + \"/ratings.csv\"\n",
    "MOVIES_PATH = \"../datasets/\" + DATASET_NAME + \"/items.csv\"\n",
    "\n",
    "# main variable of removal from the target dataset (1% in this case)\n",
    "n = 0.01"
   ]
  },
  {
   "cell_type": "markdown",
   "id": "7edb8280",
   "metadata": {},
   "source": [
    "## Load Data"
   ]
  },
  {
   "cell_type": "code",
   "execution_count": 4,
   "id": "a1ca3a98",
   "metadata": {},
   "outputs": [
    {
     "name": "stdout",
     "output_type": "stream",
     "text": [
      "total ratings to be removed from the dataset in the below test:  9172\n"
     ]
    },
    {
     "data": {
      "text/html": [
       "<div>\n",
       "<style scoped>\n",
       "    .dataframe tbody tr th:only-of-type {\n",
       "        vertical-align: middle;\n",
       "    }\n",
       "\n",
       "    .dataframe tbody tr th {\n",
       "        vertical-align: top;\n",
       "    }\n",
       "\n",
       "    .dataframe thead th {\n",
       "        text-align: right;\n",
       "    }\n",
       "</style>\n",
       "<table border=\"1\" class=\"dataframe\">\n",
       "  <thead>\n",
       "    <tr style=\"text-align: right;\">\n",
       "      <th></th>\n",
       "      <th>item_id</th>\n",
       "      <th>user_id</th>\n",
       "      <th>rating</th>\n",
       "      <th>timestamp</th>\n",
       "      <th>date</th>\n",
       "      <th>title</th>\n",
       "      <th>genres</th>\n",
       "    </tr>\n",
       "  </thead>\n",
       "  <tbody>\n",
       "    <tr>\n",
       "      <th>0</th>\n",
       "      <td>8</td>\n",
       "      <td>43197</td>\n",
       "      <td>5</td>\n",
       "      <td>1396981211</td>\n",
       "      <td>2014-04-08</td>\n",
       "      <td>Edison Kinetoscopic Record of a Sneeze (1894)</td>\n",
       "      <td>Documentary|Short</td>\n",
       "    </tr>\n",
       "    <tr>\n",
       "      <th>1</th>\n",
       "      <td>10</td>\n",
       "      <td>71052</td>\n",
       "      <td>10</td>\n",
       "      <td>1412878553</td>\n",
       "      <td>2014-10-09</td>\n",
       "      <td>La sortie des usines Lumière (1895)</td>\n",
       "      <td>Documentary|Short</td>\n",
       "    </tr>\n",
       "    <tr>\n",
       "      <th>2</th>\n",
       "      <td>12</td>\n",
       "      <td>70002</td>\n",
       "      <td>10</td>\n",
       "      <td>1439248579</td>\n",
       "      <td>2015-08-11</td>\n",
       "      <td>The Arrival of a Train (1896)</td>\n",
       "      <td>Documentary|Short</td>\n",
       "    </tr>\n",
       "    <tr>\n",
       "      <th>3</th>\n",
       "      <td>25</td>\n",
       "      <td>37892</td>\n",
       "      <td>8</td>\n",
       "      <td>1488189899</td>\n",
       "      <td>2017-02-27</td>\n",
       "      <td>The Oxford and Cambridge University Boat Race ...</td>\n",
       "      <td>NaN</td>\n",
       "    </tr>\n",
       "    <tr>\n",
       "      <th>4</th>\n",
       "      <td>91</td>\n",
       "      <td>5855</td>\n",
       "      <td>6</td>\n",
       "      <td>1385233195</td>\n",
       "      <td>2013-11-23</td>\n",
       "      <td>Le manoir du diable (1896)</td>\n",
       "      <td>Short|Horror</td>\n",
       "    </tr>\n",
       "    <tr>\n",
       "      <th>...</th>\n",
       "      <td>...</td>\n",
       "      <td>...</td>\n",
       "      <td>...</td>\n",
       "      <td>...</td>\n",
       "      <td>...</td>\n",
       "      <td>...</td>\n",
       "      <td>...</td>\n",
       "    </tr>\n",
       "    <tr>\n",
       "      <th>917188</th>\n",
       "      <td>15085802</td>\n",
       "      <td>15522</td>\n",
       "      <td>7</td>\n",
       "      <td>1629045523</td>\n",
       "      <td>2021-08-15</td>\n",
       "      <td>Untold: Malice at the Palace (2021)</td>\n",
       "      <td>NaN</td>\n",
       "    </tr>\n",
       "    <tr>\n",
       "      <th>917189</th>\n",
       "      <td>15085802</td>\n",
       "      <td>17316</td>\n",
       "      <td>7</td>\n",
       "      <td>1628842720</td>\n",
       "      <td>2021-08-13</td>\n",
       "      <td>Untold: Malice at the Palace (2021)</td>\n",
       "      <td>NaN</td>\n",
       "    </tr>\n",
       "    <tr>\n",
       "      <th>917190</th>\n",
       "      <td>15085802</td>\n",
       "      <td>43296</td>\n",
       "      <td>8</td>\n",
       "      <td>1628730742</td>\n",
       "      <td>2021-08-12</td>\n",
       "      <td>Untold: Malice at the Palace (2021)</td>\n",
       "      <td>NaN</td>\n",
       "    </tr>\n",
       "    <tr>\n",
       "      <th>917191</th>\n",
       "      <td>15085802</td>\n",
       "      <td>63323</td>\n",
       "      <td>10</td>\n",
       "      <td>1628647596</td>\n",
       "      <td>2021-08-11</td>\n",
       "      <td>Untold: Malice at the Palace (2021)</td>\n",
       "      <td>NaN</td>\n",
       "    </tr>\n",
       "    <tr>\n",
       "      <th>917192</th>\n",
       "      <td>15112954</td>\n",
       "      <td>41052</td>\n",
       "      <td>6</td>\n",
       "      <td>1628434693</td>\n",
       "      <td>2021-08-08</td>\n",
       "      <td>Dal pianeta degli umani (2021)</td>\n",
       "      <td>NaN</td>\n",
       "    </tr>\n",
       "  </tbody>\n",
       "</table>\n",
       "<p>917193 rows × 7 columns</p>\n",
       "</div>"
      ],
      "text/plain": [
       "         item_id  user_id  rating   timestamp        date  \\\n",
       "0              8    43197       5  1396981211  2014-04-08   \n",
       "1             10    71052      10  1412878553  2014-10-09   \n",
       "2             12    70002      10  1439248579  2015-08-11   \n",
       "3             25    37892       8  1488189899  2017-02-27   \n",
       "4             91     5855       6  1385233195  2013-11-23   \n",
       "...          ...      ...     ...         ...         ...   \n",
       "917188  15085802    15522       7  1629045523  2021-08-15   \n",
       "917189  15085802    17316       7  1628842720  2021-08-13   \n",
       "917190  15085802    43296       8  1628730742  2021-08-12   \n",
       "917191  15085802    63323      10  1628647596  2021-08-11   \n",
       "917192  15112954    41052       6  1628434693  2021-08-08   \n",
       "\n",
       "                                                    title             genres  \n",
       "0           Edison Kinetoscopic Record of a Sneeze (1894)  Documentary|Short  \n",
       "1                     La sortie des usines Lumière (1895)  Documentary|Short  \n",
       "2                           The Arrival of a Train (1896)  Documentary|Short  \n",
       "3       The Oxford and Cambridge University Boat Race ...                NaN  \n",
       "4                              Le manoir du diable (1896)       Short|Horror  \n",
       "...                                                   ...                ...  \n",
       "917188                Untold: Malice at the Palace (2021)                NaN  \n",
       "917189                Untold: Malice at the Palace (2021)                NaN  \n",
       "917190                Untold: Malice at the Palace (2021)                NaN  \n",
       "917191                Untold: Malice at the Palace (2021)                NaN  \n",
       "917192                     Dal pianeta degli umani (2021)                NaN  \n",
       "\n",
       "[917193 rows x 7 columns]"
      ]
     },
     "execution_count": 4,
     "metadata": {},
     "output_type": "execute_result"
    }
   ],
   "source": [
    "# load the data (paths of ratings and movies and then join into one full dataset)\n",
    "ratings = pd.read_csv(RATINGS_PATH).rename({'movieId': 'item_id', 'userId': 'user_id'}, axis=1)\n",
    "movies = pd.read_csv(MOVIES_PATH).rename({'movieId' : 'item_id', 'userId':'user_id'}, axis=1)\n",
    "\n",
    "# convert the timestamps to dates and join with item details\n",
    "ratings['date'] = ratings['timestamp'].apply(lambda x: dt.fromtimestamp(x).date())\n",
    "dataset = ratings.set_index('item_id').join(movies.set_index('item_id'), how='left').reset_index()\n",
    "\n",
    "# total ratings to be removed from the dataset based on the defined variable n\n",
    "remove_n = round(len(dataset.index.to_list()) * n)\n",
    "print(\"total ratings to be removed from the dataset in the below test: \", remove_n)\n",
    "\n",
    "dataset"
   ]
  },
  {
   "cell_type": "markdown",
   "id": "1068135b",
   "metadata": {},
   "source": [
    "### Optional - Run this if we want a fixed, pre-split train and test sets"
   ]
  },
  {
   "cell_type": "code",
   "execution_count": 5,
   "id": "7942c919",
   "metadata": {},
   "outputs": [
    {
     "data": {
      "text/html": [
       "<div>\n",
       "<style scoped>\n",
       "    .dataframe tbody tr th:only-of-type {\n",
       "        vertical-align: middle;\n",
       "    }\n",
       "\n",
       "    .dataframe tbody tr th {\n",
       "        vertical-align: top;\n",
       "    }\n",
       "\n",
       "    .dataframe thead th {\n",
       "        text-align: right;\n",
       "    }\n",
       "</style>\n",
       "<table border=\"1\" class=\"dataframe\">\n",
       "  <thead>\n",
       "    <tr style=\"text-align: right;\">\n",
       "      <th></th>\n",
       "      <th>item_id</th>\n",
       "      <th>user_id</th>\n",
       "      <th>rating</th>\n",
       "      <th>timestamp</th>\n",
       "      <th>date</th>\n",
       "      <th>title</th>\n",
       "      <th>genres</th>\n",
       "    </tr>\n",
       "  </thead>\n",
       "  <tbody>\n",
       "    <tr>\n",
       "      <th>0</th>\n",
       "      <td>8</td>\n",
       "      <td>43197</td>\n",
       "      <td>5</td>\n",
       "      <td>1396981211</td>\n",
       "      <td>2014-04-08</td>\n",
       "      <td>Edison Kinetoscopic Record of a Sneeze (1894)</td>\n",
       "      <td>Documentary|Short</td>\n",
       "    </tr>\n",
       "    <tr>\n",
       "      <th>1</th>\n",
       "      <td>10</td>\n",
       "      <td>71052</td>\n",
       "      <td>10</td>\n",
       "      <td>1412878553</td>\n",
       "      <td>2014-10-09</td>\n",
       "      <td>La sortie des usines Lumière (1895)</td>\n",
       "      <td>Documentary|Short</td>\n",
       "    </tr>\n",
       "    <tr>\n",
       "      <th>3</th>\n",
       "      <td>25</td>\n",
       "      <td>37892</td>\n",
       "      <td>8</td>\n",
       "      <td>1488189899</td>\n",
       "      <td>2017-02-27</td>\n",
       "      <td>The Oxford and Cambridge University Boat Race ...</td>\n",
       "      <td>NaN</td>\n",
       "    </tr>\n",
       "    <tr>\n",
       "      <th>5</th>\n",
       "      <td>91</td>\n",
       "      <td>37503</td>\n",
       "      <td>5</td>\n",
       "      <td>1532347349</td>\n",
       "      <td>2018-07-23</td>\n",
       "      <td>Le manoir du diable (1896)</td>\n",
       "      <td>Short|Horror</td>\n",
       "    </tr>\n",
       "    <tr>\n",
       "      <th>6</th>\n",
       "      <td>91</td>\n",
       "      <td>54841</td>\n",
       "      <td>7</td>\n",
       "      <td>1562928526</td>\n",
       "      <td>2019-07-12</td>\n",
       "      <td>Le manoir du diable (1896)</td>\n",
       "      <td>Short|Horror</td>\n",
       "    </tr>\n",
       "    <tr>\n",
       "      <th>...</th>\n",
       "      <td>...</td>\n",
       "      <td>...</td>\n",
       "      <td>...</td>\n",
       "      <td>...</td>\n",
       "      <td>...</td>\n",
       "      <td>...</td>\n",
       "      <td>...</td>\n",
       "    </tr>\n",
       "    <tr>\n",
       "      <th>917188</th>\n",
       "      <td>15085802</td>\n",
       "      <td>15522</td>\n",
       "      <td>7</td>\n",
       "      <td>1629045523</td>\n",
       "      <td>2021-08-15</td>\n",
       "      <td>Untold: Malice at the Palace (2021)</td>\n",
       "      <td>NaN</td>\n",
       "    </tr>\n",
       "    <tr>\n",
       "      <th>917189</th>\n",
       "      <td>15085802</td>\n",
       "      <td>17316</td>\n",
       "      <td>7</td>\n",
       "      <td>1628842720</td>\n",
       "      <td>2021-08-13</td>\n",
       "      <td>Untold: Malice at the Palace (2021)</td>\n",
       "      <td>NaN</td>\n",
       "    </tr>\n",
       "    <tr>\n",
       "      <th>917190</th>\n",
       "      <td>15085802</td>\n",
       "      <td>43296</td>\n",
       "      <td>8</td>\n",
       "      <td>1628730742</td>\n",
       "      <td>2021-08-12</td>\n",
       "      <td>Untold: Malice at the Palace (2021)</td>\n",
       "      <td>NaN</td>\n",
       "    </tr>\n",
       "    <tr>\n",
       "      <th>917191</th>\n",
       "      <td>15085802</td>\n",
       "      <td>63323</td>\n",
       "      <td>10</td>\n",
       "      <td>1628647596</td>\n",
       "      <td>2021-08-11</td>\n",
       "      <td>Untold: Malice at the Palace (2021)</td>\n",
       "      <td>NaN</td>\n",
       "    </tr>\n",
       "    <tr>\n",
       "      <th>917192</th>\n",
       "      <td>15112954</td>\n",
       "      <td>41052</td>\n",
       "      <td>6</td>\n",
       "      <td>1628434693</td>\n",
       "      <td>2021-08-08</td>\n",
       "      <td>Dal pianeta degli umani (2021)</td>\n",
       "      <td>NaN</td>\n",
       "    </tr>\n",
       "  </tbody>\n",
       "</table>\n",
       "<p>687622 rows × 7 columns</p>\n",
       "</div>"
      ],
      "text/plain": [
       "         item_id  user_id  rating   timestamp        date  \\\n",
       "0              8    43197       5  1396981211  2014-04-08   \n",
       "1             10    71052      10  1412878553  2014-10-09   \n",
       "3             25    37892       8  1488189899  2017-02-27   \n",
       "5             91    37503       5  1532347349  2018-07-23   \n",
       "6             91    54841       7  1562928526  2019-07-12   \n",
       "...          ...      ...     ...         ...         ...   \n",
       "917188  15085802    15522       7  1629045523  2021-08-15   \n",
       "917189  15085802    17316       7  1628842720  2021-08-13   \n",
       "917190  15085802    43296       8  1628730742  2021-08-12   \n",
       "917191  15085802    63323      10  1628647596  2021-08-11   \n",
       "917192  15112954    41052       6  1628434693  2021-08-08   \n",
       "\n",
       "                                                    title             genres  \n",
       "0           Edison Kinetoscopic Record of a Sneeze (1894)  Documentary|Short  \n",
       "1                     La sortie des usines Lumière (1895)  Documentary|Short  \n",
       "3       The Oxford and Cambridge University Boat Race ...                NaN  \n",
       "5                              Le manoir du diable (1896)       Short|Horror  \n",
       "6                              Le manoir du diable (1896)       Short|Horror  \n",
       "...                                                   ...                ...  \n",
       "917188                Untold: Malice at the Palace (2021)                NaN  \n",
       "917189                Untold: Malice at the Palace (2021)                NaN  \n",
       "917190                Untold: Malice at the Palace (2021)                NaN  \n",
       "917191                Untold: Malice at the Palace (2021)                NaN  \n",
       "917192                     Dal pianeta degli umani (2021)                NaN  \n",
       "\n",
       "[687622 rows x 7 columns]"
      ]
     },
     "execution_count": 5,
     "metadata": {},
     "output_type": "execute_result"
    }
   ],
   "source": [
    "fixed_data = True\n",
    "os.makedirs(DATASET_PATH + '/local-impact/', exist_ok = True)\n",
    "\n",
    "# test set portion (20%)\n",
    "if(os.path.isfile(DATASET_PATH + '/local-impact/custom_trainset.csv')):\n",
    "    print(\"custom split previously done, files loaded\")\n",
    "    dataset = pd.read_csv(DATASET_PATH + '/local-impact/custom_trainset.csv')\n",
    "else:\n",
    "    msk = np.random.rand(len(dataset)) < 0.75\n",
    "    dataset[msk].to_csv(DATASET_PATH + '/local-impact/custom_trainset.csv', index=False)\n",
    "    dataset[~msk].to_csv(DATASET_PATH + '/local-impact/custom_testset.csv', index=False)\n",
    "    dataset = dataset[msk]\n",
    "\n",
    "# total ratings to be removed from the dataset based on the defined variable n\n",
    "remove_n = round(len(dataset.index.to_list()) * n)\n",
    "\n",
    "dataset"
   ]
  },
  {
   "cell_type": "markdown",
   "id": "41767e36",
   "metadata": {},
   "source": [
    "# Prepare the data and split into train/test\n",
    "\n",
    "Optional section that has three different scenarios of rating removal from the dataset. \n",
    "\n",
    "We select only one scenario for each test"
   ]
  },
  {
   "cell_type": "markdown",
   "id": "fe192a24",
   "metadata": {},
   "source": [
    "## Option 1 - 1% random ratings of N"
   ]
  },
  {
   "cell_type": "code",
   "execution_count": 6,
   "id": "283f38be",
   "metadata": {},
   "outputs": [
    {
     "name": "stdout",
     "output_type": "stream",
     "text": [
      "new dataset size is:  680746\n",
      " total removed ratings:  6876\n",
      " removed:  1 % of the dataset\n"
     ]
    }
   ],
   "source": [
    "drop_indices = np.random.choice(dataset.index, remove_n, replace=False)\n",
    "dataset = dataset.drop(drop_indices)\n",
    "\n",
    "print(\"new dataset size is: \", len(dataset))\n",
    "print(\" total removed ratings: \", remove_n)\n",
    "print(\" removed: \", round((remove_n/len(dataset)) * 100), \"% of the dataset\") "
   ]
  },
  {
   "cell_type": "markdown",
   "id": "688af785",
   "metadata": {},
   "source": [
    "## Option 2 - 1% of N from a certain Genre\n",
    "The goal is to remove 1% of N from a specific genre (one that has the most appearances in items)\n",
    "\n",
    "There are two scenarios in this option: \n",
    "* Remove random ratings from the target genre \n",
    "* Eliminate only the high ratings of the items in the target genre (items that have ratings greater than 4/5)"
   ]
  },
  {
   "cell_type": "code",
   "execution_count": null,
   "id": "a867468c",
   "metadata": {},
   "outputs": [],
   "source": [
    "grouped_genres = dataset.groupby('genres').genres.count().sort_values(ascending=False)\n",
    "print(\"Genre with the highest number of stand-alone occurrences is: \", \\\n",
    "      grouped_genres.head(1).index.to_list()[0], \"-\", \\\n",
    "      grouped_genres.head(1).to_list()[0], \"ratings\")\n",
    "\n",
    "genres_list = []\n",
    "for genre_list in dataset.genres.to_list():\n",
    "    genres_list.extend(genre_list.split('|'))\n",
    "\n",
    "grouped_genres_2 = sorted(group_list(genres_list), key=lambda genre: genre[1], reverse=True)\n",
    "print(\"Genre with the highest number of occurrences is: \", grouped_genres_2[0][0], \"-\", grouped_genres_2[0][1], \"ratings\")"
   ]
  },
  {
   "cell_type": "markdown",
   "id": "58089dc1",
   "metadata": {},
   "source": [
    "### Case 1 - Random removal"
   ]
  },
  {
   "cell_type": "code",
   "execution_count": null,
   "id": "4d46b8ad",
   "metadata": {
    "scrolled": false
   },
   "outputs": [],
   "source": [
    "target_genre = dataset[ dataset['genres'] == 'Comedy' ]\n",
    "drop_indices = np.random.choice(target_genre.index, remove_n, replace=False)\n",
    "dataset.drop(drop_indices, inplace = True)\n",
    "\n",
    "print(\" new dataset size is: \", len(dataset))\n",
    "print(\" total removed ratings: \", len(drop_indices))"
   ]
  },
  {
   "cell_type": "markdown",
   "id": "5070b21e",
   "metadata": {},
   "source": [
    "### Case 2 - Targeted removal"
   ]
  },
  {
   "cell_type": "code",
   "execution_count": null,
   "id": "179eb9ca",
   "metadata": {},
   "outputs": [],
   "source": [
    "target_genre = dataset[ (dataset['genres'] == 'Comedy') & (dataset['rating'] > 4) ]\n",
    "drop_indices = np.random.choice(target_genre.index, remove_n, replace=False)\n",
    "dataset.drop(drop_indices, inplace = True)\n",
    "\n",
    "print(\" new dataset size is: \", len(dataset))\n",
    "print(\" total removed ratings: \", len(drop_indices))"
   ]
  },
  {
   "cell_type": "markdown",
   "id": "f5995769",
   "metadata": {},
   "source": [
    "# Train the algorithm"
   ]
  },
  {
   "cell_type": "code",
   "execution_count": 11,
   "id": "2c3f9c6d",
   "metadata": {},
   "outputs": [
    {
     "name": "stdout",
     "output_type": "stream",
     "text": [
      "fixed data option was selected, loading held-out testset and creating trainset...\n",
      "trainset and testset successfully created.\n"
     ]
    }
   ],
   "source": [
    "data = Dataset.load_from_df(\n",
    "                dataset[['user_id', 'item_id', 'rating']],\n",
    "                Reader(rating_scale=(1, 10))\n",
    "            )\n",
    "\n",
    "if fixed_data:\n",
    "    print(\"fixed data option was selected, loading held-out testset and creating trainset...\")\n",
    "    # load trainset from the \"dataset\" varible which we eliminated ratings from\n",
    "    train_data = Dataset.load_from_df(dataset[['user_id', 'item_id', 'rating']], Reader(rating_scale=(1,10)))\n",
    "    trainset = train_data.build_full_trainset()\n",
    "    \n",
    "    # load testset from the held-out testset in the beginning (optional block)\n",
    "    test_data = pd.read_csv(DATASET_PATH + '/local-impact/custom_testset.csv')\n",
    "    testset = list(test_data[['user_id', 'item_id', 'rating']].to_records(index=False))\n",
    "    print(\"trainset and testset successfully created.\")\n",
    "\n",
    "else:\n",
    "    trainset, testset = train_test_split(data, test_size=.20)"
   ]
  },
  {
   "cell_type": "code",
   "execution_count": 12,
   "id": "c675e449",
   "metadata": {},
   "outputs": [],
   "source": [
    "# load a recommender algorithm: SVD, NMF or KNNWithMeans algorithm\n",
    "sim_options = {\n",
    "    'name': 'pearson',\n",
    "    'user_based': True\n",
    "    }\n",
    "algo = KNNWithMeans(sim_options = sim_options)"
   ]
  },
  {
   "cell_type": "code",
   "execution_count": 13,
   "id": "46176a44",
   "metadata": {},
   "outputs": [
    {
     "name": "stdout",
     "output_type": "stream",
     "text": [
      "Computing the pearson similarity matrix...\n"
     ]
    },
    {
     "ename": "MemoryError",
     "evalue": "Unable to allocate 29.2 GiB for an array with shape (62627, 62627) and data type float64",
     "output_type": "error",
     "traceback": [
      "\u001b[1;31m---------------------------------------------------------------------------\u001b[0m",
      "\u001b[1;31mMemoryError\u001b[0m                               Traceback (most recent call last)",
      "\u001b[1;32m~\\AppData\\Local\\Temp/ipykernel_13368/1267471257.py\u001b[0m in \u001b[0;36m<module>\u001b[1;34m\u001b[0m\n\u001b[0;32m      1\u001b[0m \u001b[1;31m# train the algorithm on the trainset, and predict ratings for the testset\u001b[0m\u001b[1;33m\u001b[0m\u001b[1;33m\u001b[0m\u001b[1;33m\u001b[0m\u001b[0m\n\u001b[1;32m----> 2\u001b[1;33m \u001b[0malgo\u001b[0m\u001b[1;33m.\u001b[0m\u001b[0mfit\u001b[0m\u001b[1;33m(\u001b[0m\u001b[0mtrainset\u001b[0m\u001b[1;33m)\u001b[0m\u001b[1;33m\u001b[0m\u001b[1;33m\u001b[0m\u001b[0m\n\u001b[0m\u001b[0;32m      3\u001b[0m \u001b[0mpredictions\u001b[0m \u001b[1;33m=\u001b[0m \u001b[0malgo\u001b[0m\u001b[1;33m.\u001b[0m\u001b[0mtest\u001b[0m\u001b[1;33m(\u001b[0m\u001b[0mtestset\u001b[0m\u001b[1;33m)\u001b[0m\u001b[1;33m\u001b[0m\u001b[1;33m\u001b[0m\u001b[0m\n",
      "\u001b[1;32mD:\\miniconda3\\envs\\local-impact\\lib\\site-packages\\surprise\\prediction_algorithms\\knns.py\u001b[0m in \u001b[0;36mfit\u001b[1;34m(self, trainset)\u001b[0m\n\u001b[0;32m    176\u001b[0m \u001b[1;33m\u001b[0m\u001b[0m\n\u001b[0;32m    177\u001b[0m         \u001b[0mSymmetricAlgo\u001b[0m\u001b[1;33m.\u001b[0m\u001b[0mfit\u001b[0m\u001b[1;33m(\u001b[0m\u001b[0mself\u001b[0m\u001b[1;33m,\u001b[0m \u001b[0mtrainset\u001b[0m\u001b[1;33m)\u001b[0m\u001b[1;33m\u001b[0m\u001b[1;33m\u001b[0m\u001b[0m\n\u001b[1;32m--> 178\u001b[1;33m         \u001b[0mself\u001b[0m\u001b[1;33m.\u001b[0m\u001b[0msim\u001b[0m \u001b[1;33m=\u001b[0m \u001b[0mself\u001b[0m\u001b[1;33m.\u001b[0m\u001b[0mcompute_similarities\u001b[0m\u001b[1;33m(\u001b[0m\u001b[1;33m)\u001b[0m\u001b[1;33m\u001b[0m\u001b[1;33m\u001b[0m\u001b[0m\n\u001b[0m\u001b[0;32m    179\u001b[0m \u001b[1;33m\u001b[0m\u001b[0m\n\u001b[0;32m    180\u001b[0m         \u001b[0mself\u001b[0m\u001b[1;33m.\u001b[0m\u001b[0mmeans\u001b[0m \u001b[1;33m=\u001b[0m \u001b[0mnp\u001b[0m\u001b[1;33m.\u001b[0m\u001b[0mzeros\u001b[0m\u001b[1;33m(\u001b[0m\u001b[0mself\u001b[0m\u001b[1;33m.\u001b[0m\u001b[0mn_x\u001b[0m\u001b[1;33m)\u001b[0m\u001b[1;33m\u001b[0m\u001b[1;33m\u001b[0m\u001b[0m\n",
      "\u001b[1;32mD:\\miniconda3\\envs\\local-impact\\lib\\site-packages\\surprise\\prediction_algorithms\\algo_base.py\u001b[0m in \u001b[0;36mcompute_similarities\u001b[1;34m(self)\u001b[0m\n\u001b[0;32m    247\u001b[0m             \u001b[1;32mif\u001b[0m \u001b[0mgetattr\u001b[0m\u001b[1;33m(\u001b[0m\u001b[0mself\u001b[0m\u001b[1;33m,\u001b[0m \u001b[1;34m'verbose'\u001b[0m\u001b[1;33m,\u001b[0m \u001b[1;32mFalse\u001b[0m\u001b[1;33m)\u001b[0m\u001b[1;33m:\u001b[0m\u001b[1;33m\u001b[0m\u001b[1;33m\u001b[0m\u001b[0m\n\u001b[0;32m    248\u001b[0m                 \u001b[0mprint\u001b[0m\u001b[1;33m(\u001b[0m\u001b[1;34m'Computing the {0} similarity matrix...'\u001b[0m\u001b[1;33m.\u001b[0m\u001b[0mformat\u001b[0m\u001b[1;33m(\u001b[0m\u001b[0mname\u001b[0m\u001b[1;33m)\u001b[0m\u001b[1;33m)\u001b[0m\u001b[1;33m\u001b[0m\u001b[1;33m\u001b[0m\u001b[0m\n\u001b[1;32m--> 249\u001b[1;33m             \u001b[0msim\u001b[0m \u001b[1;33m=\u001b[0m \u001b[0mconstruction_func\u001b[0m\u001b[1;33m[\u001b[0m\u001b[0mname\u001b[0m\u001b[1;33m]\u001b[0m\u001b[1;33m(\u001b[0m\u001b[1;33m*\u001b[0m\u001b[0margs\u001b[0m\u001b[1;33m)\u001b[0m\u001b[1;33m\u001b[0m\u001b[1;33m\u001b[0m\u001b[0m\n\u001b[0m\u001b[0;32m    250\u001b[0m             \u001b[1;32mif\u001b[0m \u001b[0mgetattr\u001b[0m\u001b[1;33m(\u001b[0m\u001b[0mself\u001b[0m\u001b[1;33m,\u001b[0m \u001b[1;34m'verbose'\u001b[0m\u001b[1;33m,\u001b[0m \u001b[1;32mFalse\u001b[0m\u001b[1;33m)\u001b[0m\u001b[1;33m:\u001b[0m\u001b[1;33m\u001b[0m\u001b[1;33m\u001b[0m\u001b[0m\n\u001b[0;32m    251\u001b[0m                 \u001b[0mprint\u001b[0m\u001b[1;33m(\u001b[0m\u001b[1;34m'Done computing similarity matrix.'\u001b[0m\u001b[1;33m)\u001b[0m\u001b[1;33m\u001b[0m\u001b[1;33m\u001b[0m\u001b[0m\n",
      "\u001b[1;32mD:\\miniconda3\\envs\\local-impact\\lib\\site-packages\\surprise\\similarities.pyx\u001b[0m in \u001b[0;36msurprise.similarities.pearson\u001b[1;34m()\u001b[0m\n",
      "\u001b[1;31mMemoryError\u001b[0m: Unable to allocate 29.2 GiB for an array with shape (62627, 62627) and data type float64"
     ]
    }
   ],
   "source": [
    "# train the algorithm on the trainset, and predict ratings for the testset\n",
    "algo.fit(trainset)\n",
    "predictions = algo.test(testset)"
   ]
  },
  {
   "cell_type": "markdown",
   "id": "0c8282bf",
   "metadata": {},
   "source": [
    "# Evaluation\n",
    "\n",
    "Evaluate at the neighborhood level. The value of k defines the size of the neighborhood to be considered for the evaluation"
   ]
  },
  {
   "cell_type": "markdown",
   "id": "c374de9d",
   "metadata": {},
   "source": [
    "## Neighborhood Evaluation Method"
   ]
  },
  {
   "cell_type": "code",
   "execution_count": null,
   "id": "5c2f245e",
   "metadata": {},
   "outputs": [],
   "source": [
    "# initialize the neighborhood accuracy class with the predictions from our model (previous step)\n",
    "local_eval = NeighborhoodAccuracy(predictions)\n",
    "\n",
    "# get the neighbordhood of even user in the datasets where k defines the neighborhood size\n",
    "neighbors = get_knn(dataset, algo, k=40)\n",
    "\n",
    "# calculate the accuracy at the neighborhood level (user-level)\n",
    "# local_eval.compute_neighborhood_mae(neighbors)\n",
    "rmse = local_eval.compute_neighborhood_rmse(neighbors)\n",
    "# compute_neighborhood_ndcg(predictions, neighbors)\n",
    "\n",
    "rmse.to_csv('rmse-data.csv', index=False)"
   ]
  },
  {
   "cell_type": "markdown",
   "id": "256b2b4e",
   "metadata": {},
   "source": [
    "## Normal Evaluation Method"
   ]
  },
  {
   "cell_type": "code",
   "execution_count": null,
   "id": "fc1f03b8",
   "metadata": {
    "scrolled": true
   },
   "outputs": [],
   "source": [
    "# compute MAE and RMSE\n",
    "accuracy.mae(predictions)\n",
    "accuracy.rmse(predictions)\n",
    "accuracy.fcp(predictions)"
   ]
  }
 ],
 "metadata": {
  "interpreter": {
   "hash": "7fc9737d942149bcf886aa1959a42382752a5d10849ae6fea25047a4d014629d"
  },
  "kernelspec": {
   "display_name": "Python 3 (ipykernel)",
   "language": "python",
   "name": "python3"
  },
  "language_info": {
   "codemirror_mode": {
    "name": "ipython",
    "version": 3
   },
   "file_extension": ".py",
   "mimetype": "text/x-python",
   "name": "python",
   "nbconvert_exporter": "python",
   "pygments_lexer": "ipython3",
   "version": "3.9.6"
  }
 },
 "nbformat": 4,
 "nbformat_minor": 5
}
