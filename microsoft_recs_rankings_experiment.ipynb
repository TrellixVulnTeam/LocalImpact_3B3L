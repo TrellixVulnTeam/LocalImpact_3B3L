{
 "cells": [
  {
   "cell_type": "code",
   "execution_count": null,
   "metadata": {},
   "outputs": [],
   "source": [
    "import sys\n",
    "import cornac\n",
    "import numpy as np\n",
    "import pandas as pd\n",
    "from surprise import SVD, KNNWithMeans\n",
    "from surprise import Dataset, Reader, accuracy\n",
    "from util.helpers import load_train_test_surpriselib, load_dataset_explicit\n",
    "from util.knn import get_knn\n",
    "from neighborhood_eval.neighborhood_rankings import precision_recall_at_k, get_critical_nbhds, precision_recall_at_k_dfs\n",
    "from recommenders.datasets.python_splitters import python_random_split\n",
    "from recommenders.evaluation.python_evaluation import map_at_k, ndcg_at_k, precision_at_k, recall_at_k\n",
    "from recommenders.models.cornac.cornac_utils import predict_ranking\n",
    "from recommenders.utils.timer import Timer\n",
    "from recommenders.utils.constants import SEED\n",
    "\n",
    "print(\"System version: {}\".format(sys.version))\n",
    "print(\"Cornac version: {}\".format(cornac.__version__))"
   ]
  },
  {
   "cell_type": "code",
   "execution_count": null,
   "metadata": {},
   "outputs": [],
   "source": [
    "# path to the datasets folder\n",
    "dataset_name = 'ml-latest-small'\n",
    "dataset_path = '../data/' + dataset_name\n",
    "\n",
    "# load the data\n",
    "ratings = load_dataset_explicit(dataset_name, dataset_path, total_users=16000)\n",
    "print('Dataset size:', len(ratings))\n",
    "print('Total no of Users:', len(set(ratings.user_id.to_list())))"
   ]
  },
  {
   "cell_type": "code",
   "execution_count": null,
   "metadata": {},
   "outputs": [],
   "source": [
    "data = ratings.rename({'user_id':'userID', 'item_id':'itemID'}, axis=1)\n",
    "data = data[['userID', 'itemID', 'rating']]\n",
    "train, test = python_random_split(data, 0.75)"
   ]
  },
  {
   "cell_type": "code",
   "execution_count": null,
   "metadata": {},
   "outputs": [],
   "source": [
    "# top k items to recommend\n",
    "TOP_K = 10\n",
    "\n",
    "# model parameters\n",
    "NUM_FACTORS = 200\n",
    "NUM_EPOCHS = 100\n",
    "\n",
    "train_set = cornac.data.Dataset.from_uir(train.itertuples(index=False), seed=SEED)\n",
    "\n",
    "print('Number of users: {}'.format(train_set.num_users))\n",
    "print('Number of items: {}'.format(train_set.num_items))"
   ]
  },
  {
   "cell_type": "code",
   "execution_count": null,
   "metadata": {},
   "outputs": [],
   "source": [
    "bpr = cornac.models.BPR(\n",
    "    k=NUM_FACTORS,\n",
    "    max_iter=NUM_EPOCHS,\n",
    "    learning_rate=0.01,\n",
    "    lambda_reg=0.001,\n",
    "    verbose=True,\n",
    "    seed=SEED\n",
    ")"
   ]
  },
  {
   "cell_type": "code",
   "execution_count": null,
   "metadata": {},
   "outputs": [],
   "source": [
    "with Timer() as t:\n",
    "    bpr.fit(train_set)\n",
    "print(\"Took {} seconds for training.\".format(t))"
   ]
  },
  {
   "cell_type": "code",
   "execution_count": null,
   "metadata": {},
   "outputs": [],
   "source": [
    "with Timer() as t:\n",
    "    all_predictions = predict_ranking(bpr, train, usercol='userID', itemcol='itemID', remove_seen=True)\n",
    "print(\"Took {} seconds for prediction.\".format(t))"
   ]
  },
  {
   "cell_type": "code",
   "execution_count": null,
   "metadata": {},
   "outputs": [],
   "source": [
    "k = 10\n",
    "eval_map = map_at_k(test, all_predictions, col_prediction='prediction', k=k)\n",
    "eval_ndcg = ndcg_at_k(test, all_predictions, col_prediction='prediction', k=k)\n",
    "eval_precision = precision_at_k(test, all_predictions, col_prediction='prediction', k=k)\n",
    "eval_recall = recall_at_k(test, all_predictions, col_prediction='prediction', k=k)\n",
    "\n",
    "print(\"MAP:\\t%f\" % eval_map,\n",
    "      \"NDCG:\\t%f\" % eval_ndcg,\n",
    "      \"Precision@K:\\t%f\" % eval_precision,\n",
    "      \"Recall@K:\\t%f\" % eval_recall, sep='\\n')"
   ]
  },
  {
   "cell_type": "markdown",
   "metadata": {},
   "source": [
    "Neighborhood-based evaluation"
   ]
  },
  {
   "cell_type": "code",
   "execution_count": null,
   "metadata": {},
   "outputs": [],
   "source": [
    "train_surp_compat = train.rename({'userID':'user_id', 'itemID':'item_id'}, axis=1)\n",
    "test_surp_compat = test.rename({'userID':'user_id', 'itemID':'item_id'}, axis=1)\n",
    "# dataset = pd.concat([train_surp_compat, test_surp_compat])\n",
    "dataset = ratings.copy()\n",
    "\n",
    "# load train, test compatible with surpriselib\n",
    "trainset, testset = load_train_test_surpriselib(train_surp_compat, test_surp_compat)\n",
    "\n",
    "# nbhds on full dataset\n",
    "full_data = Dataset.load_from_df(dataset[['user_id', 'item_id', 'rating']], Reader(rating_scale=(dataset.rating.min(), dataset.rating.max())))\n",
    "trainset_nbhds = full_data.build_full_trainset()\n",
    "\n",
    "clustering_algo = KNNWithMeans(sim_options = {'name': 'pearson', 'user_based': True}).fit(trainset_nbhds)"
   ]
  },
  {
   "cell_type": "code",
   "execution_count": null,
   "metadata": {},
   "outputs": [],
   "source": [
    "nbhd_size = 10\n",
    "p_thresh = 0.5\n",
    "\n",
    "# merge all predictions with the test\n",
    "predictions = all_predictions.merge(test, on=['userID', 'itemID'])\n",
    "predictions_df = predictions.rename({'userID':'uid', 'itemID':'iid', 'prediction':'est'}, axis=1)\n",
    "\n",
    "# get neighborhoods and ranking metrics\n",
    "neighborhoods = get_knn(train_surp_compat, clustering_algo, nbhd_size)\n",
    "precisions, recalls = precision_recall_at_k_dfs(predictions, k=5, threshold=4)\n",
    "\n",
    "precisions_df = pd.DataFrame(precisions, index=[0]).T.reset_index().rename({'index':'user_id', 0:'precision'}, axis=1)\n",
    "recalls_df = pd.DataFrame(recalls, index=[0]).T.reset_index().rename({'index':'user_id', 0:'recall'}, axis=1)\n",
    "critical_nbhds = get_critical_nbhds(neighborhoods, predictions_df, precisions_df, recalls_df)\n",
    "critical_nbhds.to_csv('output/ranking_algo_exp/' + dataset_name + '.csv', index=False)"
   ]
  }
 ],
 "metadata": {
  "interpreter": {
   "hash": "28800bbaf992ec1b9bb9ca62bf0a5137f2a6e09eb1fec1aee7f168f6a859e1ca"
  },
  "kernelspec": {
   "display_name": "Python 3.10.0 ('recommenders')",
   "language": "python",
   "name": "python3"
  },
  "language_info": {
   "codemirror_mode": {
    "name": "ipython",
    "version": 3
   },
   "file_extension": ".py",
   "mimetype": "text/x-python",
   "name": "python",
   "nbconvert_exporter": "python",
   "pygments_lexer": "ipython3",
   "version": "3.10.0"
  },
  "orig_nbformat": 4
 },
 "nbformat": 4,
 "nbformat_minor": 2
}
