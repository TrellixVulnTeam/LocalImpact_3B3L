{
 "cells": [
  {
   "cell_type": "code",
   "execution_count": null,
   "metadata": {},
   "outputs": [],
   "source": [
    "# importing libraries\n",
    "import matplotlib.pyplot as plt\n",
    "import seaborn\n",
    "  \n",
    "# declaring data\n",
    "data = [35, 17, 13, 9, 22, 4]\n",
    "keys = ['MAE', 'RMSE', 'Precision', 'Recall', 'F1', 'Coverage']\n",
    "  \n",
    "# define Seaborn color palette to use\n",
    "palette_color = seaborn.color_palette('light:grey_r')\n",
    "  \n",
    "# plotting data on chart\n",
    "plt.pie(data, labels=keys, colors=palette_color, autopct='%.0f%%')\n",
    "\n",
    "# save chart\n",
    "plt.savefig('pie_chart_metrics', dpi=800, bbox_inches='tight')\n",
    "\n",
    "# displaying chart\n",
    "plt.show()\n",
    "\n"
   ]
  },
  {
   "cell_type": "code",
   "execution_count": null,
   "metadata": {},
   "outputs": [],
   "source": [
    "# declaring data\n",
    "data = [49, 5, 5, 23, 9, 9]\n",
    "keys = ['Grouplens', 'Books', 'Jester', 'Netflix', 'EachMovie', 'MovieT.']\n",
    "  \n",
    "# define Seaborn color palette to use\n",
    "palette_color = seaborn.color_palette('light:grey')\n",
    "  \n",
    "# plotting data on chart\n",
    "plt.pie(data, labels=keys, colors=palette_color, autopct='%.0f%%')\n",
    "\n",
    "# save chart\n",
    "plt.savefig('pie_chart_metrics', dpi=800, bbox_inches='tight')\n",
    "\n",
    "# displaying chart\n",
    "plt.show()"
   ]
  }
 ],
 "metadata": {
  "interpreter": {
   "hash": "28800bbaf992ec1b9bb9ca62bf0a5137f2a6e09eb1fec1aee7f168f6a859e1ca"
  },
  "kernelspec": {
   "display_name": "Python 3.10.0 ('recommenders')",
   "language": "python",
   "name": "python3"
  },
  "language_info": {
   "codemirror_mode": {
    "name": "ipython",
    "version": 3
   },
   "file_extension": ".py",
   "mimetype": "text/x-python",
   "name": "python",
   "nbconvert_exporter": "python",
   "pygments_lexer": "ipython3",
   "version": "3.10.0"
  },
  "orig_nbformat": 4
 },
 "nbformat": 4,
 "nbformat_minor": 2
}
