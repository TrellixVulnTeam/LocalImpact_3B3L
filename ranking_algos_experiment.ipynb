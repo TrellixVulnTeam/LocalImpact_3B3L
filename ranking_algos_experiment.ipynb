{
 "cells": [
  {
   "cell_type": "code",
   "execution_count": null,
   "metadata": {},
   "outputs": [],
   "source": [
    "import numpy as np\n",
    "import pandas as pd\n",
    "from surprise import SVDpp, KNNWithMeans\n",
    "from surprise import Dataset, Reader, accuracy\n",
    "from util.helpers import load_train_test_surpriselib, load_dataset_explicit\n",
    "from util.knn import get_knn\n",
    "from neighborhood_eval.neighborhood_rankings import precision_recall_at_k, get_critical_nbhds\n",
    "\n",
    "# path to the datasets folder\n",
    "dataset_name = 'ml-latest'\n",
    "dataset_path = '../data/' + dataset_name\n",
    "\n",
    "# load the data\n",
    "# old value was 16000\n",
    "ratings = load_dataset_explicit(dataset_name, dataset_path, total_users=16000)\n",
    "print('Dataset size:', len(ratings))\n",
    "print('Total no of Users:', len(set(ratings.user_id.to_list())))"
   ]
  },
  {
   "cell_type": "code",
   "execution_count": 4,
   "metadata": {},
   "outputs": [
    {
     "name": "stdout",
     "output_type": "stream",
     "text": [
      "trainset and testset successfully created.\n"
     ]
    }
   ],
   "source": [
    "# split data into train/test\n",
    "dataset = ratings.copy()\n",
    "# test set portion (15%)\n",
    "msk = np.random.rand(len(dataset)) < 0.85\n",
    "x = dataset[msk]\n",
    "y = dataset[~msk]\n",
    "\n",
    "print(\"trainset size:\", len(x))\n",
    "print(\"testset size:\", len(y))\n",
    "print(\"full dataset size\", len(dataset))\n",
    "\n",
    "# load train, test compatible with surpriselib\n",
    "trainset, testset = load_train_test_surpriselib(x, y)\n",
    "\n",
    "# nbhds on full dataset\n",
    "full_data = Dataset.load_from_df(dataset[['user_id', 'item_id', 'rating']], Reader(rating_scale=(dataset.rating.min(), dataset.rating.max())))\n",
    "trainset_nbhds = full_data.build_full_trainset()"
   ]
  },
  {
   "cell_type": "code",
   "execution_count": null,
   "metadata": {},
   "outputs": [],
   "source": [
    "# main train algo + algo for nbhd clustering\n",
    "algo = SVDpp().fit(trainset)\n",
    "clustering_algo = KNNWithMeans(sim_options = {'name': 'pearson', 'user_based': True}).fit(trainset_nbhds)\n",
    "\n",
    "predictions = algo.test(testset)\n",
    "predictions_df = pd.DataFrame(predictions)\n",
    "\n",
    "# compute systen metrics\n",
    "accuracy.mae(predictions)\n",
    "accuracy.rmse(predictions)\n",
    "accuracy.mse(predictions)"
   ]
  },
  {
   "cell_type": "code",
   "execution_count": null,
   "metadata": {},
   "outputs": [],
   "source": [
    "nbhd_size = 10\n",
    "p_thresh = 0.5\n",
    "neighborhoods = get_knn(x, clustering_algo, nbhd_size)\n",
    "\n",
    "precisions, recalls = precision_recall_at_k(predictions, k=5, threshold=4)\n",
    "precisions_df = pd.DataFrame(precisions, index=[0]).T.reset_index().rename({'index':'user_id', 0:'precision'}, axis=1)\n",
    "recalls_df = pd.DataFrame(recalls, index=[0]).T.reset_index().rename({'index':'user_id', 0:'recall'}, axis=1)\n",
    "\n",
    "critical_nbhds = get_critical_nbhds(neighborhoods, predictions_df, precisions_df, recalls_df)\n",
    "critical_nbhds.to_csv('output/ranking_algo_exp/' + dataset_name + '.csv', index=False)"
   ]
  }
 ],
 "metadata": {
  "interpreter": {
   "hash": "28800bbaf992ec1b9bb9ca62bf0a5137f2a6e09eb1fec1aee7f168f6a859e1ca"
  },
  "kernelspec": {
   "display_name": "Python 3.10.0 ('recommenders')",
   "language": "python",
   "name": "python3"
  },
  "language_info": {
   "codemirror_mode": {
    "name": "ipython",
    "version": 3
   },
   "file_extension": ".py",
   "mimetype": "text/x-python",
   "name": "python",
   "nbconvert_exporter": "python",
   "pygments_lexer": "ipython3",
   "version": "3.10.0"
  },
  "orig_nbformat": 4
 },
 "nbformat": 4,
 "nbformat_minor": 2
}
